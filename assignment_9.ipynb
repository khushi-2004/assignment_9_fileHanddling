{
 "cells": [
  {
   "cell_type": "code",
   "execution_count": null,
   "id": "0864dfde-f35c-4ebe-901b-5588f443c9c3",
   "metadata": {},
   "outputs": [],
   "source": [
    "Q1. Explain why we have to use the Exception class while creating a Custom Exception."
   ]
  },
  {
   "cell_type": "code",
   "execution_count": null,
   "id": "da17a765-8d55-41f0-829f-722efcd44d9c",
   "metadata": {},
   "outputs": [],
   "source": []
  },
  {
   "cell_type": "code",
   "execution_count": null,
   "id": "d11ce470-5117-4fbc-a06a-3127cc5c2398",
   "metadata": {},
   "outputs": [],
   "source": []
  },
  {
   "cell_type": "code",
   "execution_count": null,
   "id": "dbd60923-37ee-46fa-a7b8-32a0ded32f4b",
   "metadata": {},
   "outputs": [],
   "source": [
    "Q2. Write a python program to print Python Exception Hierarchy."
   ]
  },
  {
   "cell_type": "code",
   "execution_count": 2,
   "id": "726d0fea-21ee-4e4f-a286-ac45473f914b",
   "metadata": {},
   "outputs": [
    {
     "name": "stdin",
     "output_type": "stream",
     "text": [
      "enter a number 56\n",
      "enter a number 0\n"
     ]
    }
   ],
   "source": [
    "import logging\n",
    "logging.basicConfig(filename=\"test.log\",level=logging.ERROR)\n",
    "a=int(input(\"enter a number\"))\n",
    "b=int(input(\"enter a number\"))\n",
    "\n",
    "try:\n",
    "    a/b\n",
    "except IndexError as e:\n",
    "    logging.error(\"out of index\".format(e))\n",
    "except ZeroDivisionError as e:\n",
    "    logging.error(\"zero division erre\".format(e))"
   ]
  },
  {
   "cell_type": "code",
   "execution_count": null,
   "id": "3c3236c2-7a87-49d1-831f-67ed00dd798c",
   "metadata": {},
   "outputs": [],
   "source": [
    "Q3. What errors are defined in the ArithmeticError class? Explain any two with an example."
   ]
  },
  {
   "cell_type": "code",
   "execution_count": null,
   "id": "dd9e7c1e-673b-4240-b5c5-e02b81a30046",
   "metadata": {},
   "outputs": [],
   "source": [
    "ArithmeticError:\n",
    "    The arithmetic error occurs when an error is encountered during numeric calculations in Python"
   ]
  },
  {
   "cell_type": "code",
   "execution_count": 3,
   "id": "f9498e87-b5e5-42fe-92a6-4d194207f56e",
   "metadata": {},
   "outputs": [
    {
     "name": "stdout",
     "output_type": "stream",
     "text": [
      "division by zero\n"
     ]
    }
   ],
   "source": [
    "try:\n",
    "    10/0\n",
    "except ArithmeticError as e:\n",
    "    print(e)"
   ]
  },
  {
   "cell_type": "code",
   "execution_count": null,
   "id": "09532b84-e5e8-4120-9a70-fa85fac8c69a",
   "metadata": {},
   "outputs": [],
   "source": [
    "Q4. Why LookupError class is used? Explain with an example KeyError and IndexError."
   ]
  },
  {
   "cell_type": "code",
   "execution_count": null,
   "id": "5b6ceec8-4e31-497b-ab5e-432eff51f16b",
   "metadata": {},
   "outputs": [],
   "source": [
    "lookuperror:\n",
    "    Python forms the base class for all exceptions that are raised when an index or a key is not found for a sequence or dictionary respectively"
   ]
  },
  {
   "cell_type": "code",
   "execution_count": 8,
   "id": "bc0a8083-c14e-4639-8bc7-00f0dcbdfef6",
   "metadata": {},
   "outputs": [
    {
     "name": "stdout",
     "output_type": "stream",
     "text": [
      "'branch'\n"
     ]
    }
   ],
   "source": [
    "try:\n",
    "    dic={\"id\":789,\"name\":\"kukku\",\"course\":\"data science\"}\n",
    "    print(dic[\"branch\"])\n",
    "except KeyError as e:\n",
    "    print(e)\n"
   ]
  },
  {
   "cell_type": "code",
   "execution_count": null,
   "id": "460f4ab3-f7aa-43de-9c54-907e35f5f380",
   "metadata": {},
   "outputs": [],
   "source": [
    "Q5. Explain ImportError. What is ModuleNotFoundError?"
   ]
  },
  {
   "cell_type": "code",
   "execution_count": null,
   "id": "08be4e8d-1aef-4dd4-963a-72883e4f2509",
   "metadata": {},
   "outputs": [],
   "source": [
    "importError:\n",
    "     The imported class is in a circular dependency. The imported class is unavailable or was not created.\n",
    "\n",
    "moduleNotFoundErrror:\n",
    "    it means you've not installed the package you're trying to use.\n",
    "    "
   ]
  },
  {
   "cell_type": "code",
   "execution_count": null,
   "id": "93bc9d7c-4342-46bc-98ab-8e6510a00d37",
   "metadata": {},
   "outputs": [],
   "source": [
    "Q6. List down some best practices for exception handling in python."
   ]
  },
  {
   "cell_type": "code",
   "execution_count": 2,
   "id": "7bf4a441-579d-4ae1-a95d-a6410de1c308",
   "metadata": {},
   "outputs": [
    {
     "name": "stdout",
     "output_type": "stream",
     "text": [
      "exception by zero devision\n"
     ]
    }
   ],
   "source": [
    "# use always a specific exception name\n",
    "# print always propar message\n",
    "# use always log you error\n",
    "import logging\n",
    "logging.basicConfig(filename=\"test.txt\",level=logging.DEBUG,format='%(message)s')\n",
    "try:\n",
    "    10/0\n",
    "except ZeroDivisionError as e:\n",
    "    print(\"exception by zero devision\")\n",
    "    logging.info(format(e))"
   ]
  },
  {
   "cell_type": "code",
   "execution_count": null,
   "id": "a0d3e2f4-5339-4f08-b3d2-283fd31e5af5",
   "metadata": {},
   "outputs": [],
   "source": []
  },
  {
   "cell_type": "code",
   "execution_count": null,
   "id": "ebc67310-cecd-4768-b30b-370fb9e49c48",
   "metadata": {},
   "outputs": [],
   "source": []
  }
 ],
 "metadata": {
  "kernelspec": {
   "display_name": "Python 3 (ipykernel)",
   "language": "python",
   "name": "python3"
  },
  "language_info": {
   "codemirror_mode": {
    "name": "ipython",
    "version": 3
   },
   "file_extension": ".py",
   "mimetype": "text/x-python",
   "name": "python",
   "nbconvert_exporter": "python",
   "pygments_lexer": "ipython3",
   "version": "3.10.8"
  }
 },
 "nbformat": 4,
 "nbformat_minor": 5
}
